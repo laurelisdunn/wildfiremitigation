{
 "cells": [
  {
   "cell_type": "code",
   "execution_count": 3,
   "metadata": {},
   "outputs": [],
   "source": [
    "import numpy as np\n",
    "import pandas as pd\n",
    "import os"
   ]
  },
  {
   "cell_type": "code",
   "execution_count": 5,
   "metadata": {},
   "outputs": [
    {
     "name": "stdout",
     "output_type": "stream",
     "text": [
      "dx_wires_down.csv ignitions.csv     tx_wires_down.csv\r\n"
     ]
    }
   ],
   "source": [
    "!ls ../data/pge/"
   ]
  },
  {
   "cell_type": "code",
   "execution_count": 7,
   "metadata": {},
   "outputs": [],
   "source": [
    "datadir = os.path.join('..','data','pge')"
   ]
  },
  {
   "cell_type": "code",
   "execution_count": 10,
   "metadata": {},
   "outputs": [],
   "source": [
    "df = pd.read_csv(os.path.join(datadir, 'dx_wires_down.csv'), skiprows=5, parse_dates[['Out Date','In\\nTime']])"
   ]
  },
  {
   "cell_type": "code",
   "execution_count": 11,
   "metadata": {},
   "outputs": [
    {
     "data": {
      "text/html": [
       "<div>\n",
       "<style scoped>\n",
       "    .dataframe tbody tr th:only-of-type {\n",
       "        vertical-align: middle;\n",
       "    }\n",
       "\n",
       "    .dataframe tbody tr th {\n",
       "        vertical-align: top;\n",
       "    }\n",
       "\n",
       "    .dataframe thead th {\n",
       "        text-align: right;\n",
       "    }\n",
       "</style>\n",
       "<table border=\"1\" class=\"dataframe\">\n",
       "  <thead>\n",
       "    <tr style=\"text-align: right;\">\n",
       "      <th></th>\n",
       "      <th>Division</th>\n",
       "      <th>District Name</th>\n",
       "      <th>Feeder Name</th>\n",
       "      <th>Feeder #</th>\n",
       "      <th>Device</th>\n",
       "      <th>Oper #</th>\n",
       "      <th>Out Date</th>\n",
       "      <th>FNL</th>\n",
       "      <th>In Date</th>\n",
       "      <th>In\\nTime</th>\n",
       "      <th>...</th>\n",
       "      <th>Open Point\\nLatitude</th>\n",
       "      <th>Open Point\\nLongitude</th>\n",
       "      <th>Fault Location</th>\n",
       "      <th>Weather</th>\n",
       "      <th>Failed Equipment</th>\n",
       "      <th>Failed Equipment\\nCondition</th>\n",
       "      <th>Event #</th>\n",
       "      <th>Const\\nType</th>\n",
       "      <th>Sus/Mom</th>\n",
       "      <th>Tier</th>\n",
       "    </tr>\n",
       "  </thead>\n",
       "  <tbody>\n",
       "    <tr>\n",
       "      <th>0</th>\n",
       "      <td>FRESNO</td>\n",
       "      <td>FRESNO</td>\n",
       "      <td>BARTON-1108</td>\n",
       "      <td>253571108.0</td>\n",
       "      <td>FUSE</td>\n",
       "      <td>D5460                                         ...</td>\n",
       "      <td>20150101.0</td>\n",
       "      <td>19.0</td>\n",
       "      <td>20150101.0</td>\n",
       "      <td>546.0</td>\n",
       "      <td>...</td>\n",
       "      <td>0.00000</td>\n",
       "      <td>0.00000</td>\n",
       "      <td>1 POLE N/OF D5460                             ...</td>\n",
       "      <td>Clear;32-90 F                                 ...</td>\n",
       "      <td>Conductor, Overhead</td>\n",
       "      <td>Broken, wire on ground</td>\n",
       "      <td>15-0002029</td>\n",
       "      <td>OH</td>\n",
       "      <td>Sus</td>\n",
       "      <td>Non 2/3</td>\n",
       "    </tr>\n",
       "    <tr>\n",
       "      <th>1</th>\n",
       "      <td>FRESNO</td>\n",
       "      <td>FRESNO</td>\n",
       "      <td>BARTON-1108</td>\n",
       "      <td>253571108.0</td>\n",
       "      <td>RECLOSER</td>\n",
       "      <td>R3370                                         ...</td>\n",
       "      <td>20150101.0</td>\n",
       "      <td>7.0</td>\n",
       "      <td>20150101.0</td>\n",
       "      <td>540.0</td>\n",
       "      <td>...</td>\n",
       "      <td>0.00000</td>\n",
       "      <td>0.00000</td>\n",
       "      <td>WIRE DOWN AT MTR# 1004010983                  ...</td>\n",
       "      <td>Clear;32-90 F                                 ...</td>\n",
       "      <td>Conductor, Overhead</td>\n",
       "      <td>Broken, wire on ground</td>\n",
       "      <td>15-0002034</td>\n",
       "      <td>OH</td>\n",
       "      <td>Sus</td>\n",
       "      <td>Non 2/3</td>\n",
       "    </tr>\n",
       "    <tr>\n",
       "      <th>2</th>\n",
       "      <td>FRESNO</td>\n",
       "      <td>FRESNO</td>\n",
       "      <td>BARTON-1110</td>\n",
       "      <td>253571110.0</td>\n",
       "      <td>OCB</td>\n",
       "      <td>1110/2                                        ...</td>\n",
       "      <td>20150101.0</td>\n",
       "      <td>9.0</td>\n",
       "      <td>20150101.0</td>\n",
       "      <td>615.0</td>\n",
       "      <td>...</td>\n",
       "      <td>0.00000</td>\n",
       "      <td>0.00000</td>\n",
       "      <td>KRUPENS,DOUG/6: BARTON &amp; BELMONT              ...</td>\n",
       "      <td>Clear;32-90 F                                 ...</td>\n",
       "      <td>Conductor, Overhead</td>\n",
       "      <td>Broken, wire on ground</td>\n",
       "      <td>15-0002018</td>\n",
       "      <td>OH</td>\n",
       "      <td>Sus</td>\n",
       "      <td>Non 2/3</td>\n",
       "    </tr>\n",
       "    <tr>\n",
       "      <th>3</th>\n",
       "      <td>PENINSULA</td>\n",
       "      <td>PENINSULA</td>\n",
       "      <td>BELMONT-1103</td>\n",
       "      <td>24031103.0</td>\n",
       "      <td>TRANSFORMER</td>\n",
       "      <td>...</td>\n",
       "      <td>20150101.0</td>\n",
       "      <td>1845.0</td>\n",
       "      <td>20150102.0</td>\n",
       "      <td>156.0</td>\n",
       "      <td>...</td>\n",
       "      <td>37.50784</td>\n",
       "      <td>-122.29187</td>\n",
       "      <td>IRO 7 GARDEN COURT, BELMONT                   ...</td>\n",
       "      <td>Clear;32 - 90 F                               ...</td>\n",
       "      <td>Secondary</td>\n",
       "      <td>Broken, wire on ground</td>\n",
       "      <td>15-0002125</td>\n",
       "      <td>OH</td>\n",
       "      <td>Sus</td>\n",
       "      <td>Non 2/3</td>\n",
       "    </tr>\n",
       "    <tr>\n",
       "      <th>4</th>\n",
       "      <td>NORTH VALLEY</td>\n",
       "      <td>SHASTA</td>\n",
       "      <td>BURNEY-1101</td>\n",
       "      <td>103311101.0</td>\n",
       "      <td>RECLOSER</td>\n",
       "      <td>45984</td>\n",
       "      <td>20150101.0</td>\n",
       "      <td>1417.0</td>\n",
       "      <td>20150101.0</td>\n",
       "      <td>2042.0</td>\n",
       "      <td>...</td>\n",
       "      <td>40.87930</td>\n",
       "      <td>-121.67422</td>\n",
       "      <td>C/OUT POLE 10059                              ...</td>\n",
       "      <td>Strong winds;32 - 90 F                        ...</td>\n",
       "      <td>Conductor, Overhead</td>\n",
       "      <td>Broken, wire on ground</td>\n",
       "      <td>15-0002105</td>\n",
       "      <td>OH</td>\n",
       "      <td>Sus</td>\n",
       "      <td>Tier 2</td>\n",
       "    </tr>\n",
       "  </tbody>\n",
       "</table>\n",
       "<p>5 rows × 27 columns</p>\n",
       "</div>"
      ],
      "text/plain": [
       "        Division     District Name                   Feeder Name     Feeder #  \\\n",
       "0  FRESNO         FRESNO            BARTON-1108                   253571108.0   \n",
       "1  FRESNO         FRESNO            BARTON-1108                   253571108.0   \n",
       "2  FRESNO         FRESNO            BARTON-1110                   253571110.0   \n",
       "3  PENINSULA      PENINSULA         BELMONT-1103                   24031103.0   \n",
       "4  NORTH VALLEY   SHASTA            BURNEY-1101                   103311101.0   \n",
       "\n",
       "          Device                                             Oper #  \\\n",
       "0  FUSE           D5460                                         ...   \n",
       "1  RECLOSER       R3370                                         ...   \n",
       "2  OCB            1110/2                                        ...   \n",
       "3  TRANSFORMER                                                  ...   \n",
       "4  RECLOSER                                                   45984   \n",
       "\n",
       "     Out Date     FNL     In Date  In\\nTime  ... Open Point\\nLatitude  \\\n",
       "0  20150101.0    19.0  20150101.0     546.0  ...              0.00000   \n",
       "1  20150101.0     7.0  20150101.0     540.0  ...              0.00000   \n",
       "2  20150101.0     9.0  20150101.0     615.0  ...              0.00000   \n",
       "3  20150101.0  1845.0  20150102.0     156.0  ...             37.50784   \n",
       "4  20150101.0  1417.0  20150101.0    2042.0  ...             40.87930   \n",
       "\n",
       "  Open Point\\nLongitude                                     Fault Location  \\\n",
       "0               0.00000  1 POLE N/OF D5460                             ...   \n",
       "1               0.00000  WIRE DOWN AT MTR# 1004010983                  ...   \n",
       "2               0.00000  KRUPENS,DOUG/6: BARTON & BELMONT              ...   \n",
       "3            -122.29187  IRO 7 GARDEN COURT, BELMONT                   ...   \n",
       "4            -121.67422  C/OUT POLE 10059                              ...   \n",
       "\n",
       "                                             Weather  \\\n",
       "0  Clear;32-90 F                                 ...   \n",
       "1  Clear;32-90 F                                 ...   \n",
       "2  Clear;32-90 F                                 ...   \n",
       "3  Clear;32 - 90 F                               ...   \n",
       "4  Strong winds;32 - 90 F                        ...   \n",
       "\n",
       "               Failed Equipment   Failed Equipment\\nCondition     Event #  \\\n",
       "0  Conductor, Overhead           Broken, wire on ground        15-0002029   \n",
       "1  Conductor, Overhead           Broken, wire on ground        15-0002034   \n",
       "2  Conductor, Overhead           Broken, wire on ground        15-0002018   \n",
       "3  Secondary                     Broken, wire on ground        15-0002125   \n",
       "4  Conductor, Overhead           Broken, wire on ground        15-0002105   \n",
       "\n",
       "   Const\\nType  Sus/Mom       Tier  \n",
       "0           OH      Sus  Non 2/3    \n",
       "1           OH      Sus  Non 2/3    \n",
       "2           OH      Sus  Non 2/3    \n",
       "3           OH      Sus  Non 2/3    \n",
       "4           OH      Sus  Tier 2     \n",
       "\n",
       "[5 rows x 27 columns]"
      ]
     },
     "execution_count": 11,
     "metadata": {},
     "output_type": "execute_result"
    }
   ],
   "source": [
    "df.head()"
   ]
  },
  {
   "cell_type": "code",
   "execution_count": null,
   "metadata": {},
   "outputs": [],
   "source": [
    "renames = {'Division': 'division', \n",
    "           'District Name': 'district', \n",
    "           'Feeder Name': 'feeder', \n",
    "           'Feeder #': 'feeder_number',\n",
    "           'In Date': 'date',\n",
    "           'In\\nTime': 'time',\n",
    "           'OIS #': 'ois_number',\n",
    "           'Device': ''\n",
    "          }"
   ]
  },
  {
   "cell_type": "code",
   "execution_count": 12,
   "metadata": {},
   "outputs": [
    {
     "data": {
      "text/plain": [
       "Index(['Division', 'District Name', 'Feeder Name', 'Feeder #', 'Device',\n",
       "       'Oper #', 'Out Date', 'FNL', 'In Date', 'In\\nTime', 'OIS #', 'Duration',\n",
       "       'Outage Level', 'Basic Cause', 'Supplemental Cause', 'CESO', 'C Min',\n",
       "       'Open Point\\nLatitude', 'Open Point\\nLongitude', 'Fault Location',\n",
       "       'Weather', 'Failed Equipment', 'Failed Equipment\\nCondition', 'Event #',\n",
       "       'Const\\nType', 'Sus/Mom', 'Tier'],\n",
       "      dtype='object')"
      ]
     },
     "execution_count": 12,
     "metadata": {},
     "output_type": "execute_result"
    }
   ],
   "source": [
    "df.keys()"
   ]
  },
  {
   "cell_type": "code",
   "execution_count": 21,
   "metadata": {},
   "outputs": [
    {
     "data": {
      "text/plain": [
       "Distribution Circuit          21992\n",
       "Transformer only               1803\n",
       "Name: Outage Level, dtype: int64"
      ]
     },
     "execution_count": 21,
     "metadata": {},
     "output_type": "execute_result"
    }
   ],
   "source": [
    "df['Outage Level'].value_counts()"
   ]
  },
  {
   "cell_type": "code",
   "execution_count": 24,
   "metadata": {
    "scrolled": true
   },
   "outputs": [
    {
     "data": {
      "text/plain": [
       "FUSE             11351\n",
       "RECLOSER          4753\n",
       "TRANSFORMER       1929\n",
       "OCB               1872\n",
       "OTHER             1828\n",
       "JUMPER            1382\n",
       "SWITCH             324\n",
       "TRIP-SAVER         227\n",
       "SECTIONALIZER      100\n",
       "INTERRUPTER         27\n",
       "CAPACITOR            1\n",
       "REGULATOR            1\n",
       "Name: Device, dtype: int64"
      ]
     },
     "execution_count": 24,
     "metadata": {},
     "output_type": "execute_result"
    }
   ],
   "source": [
    "df['Device'].value_counts()"
   ]
  },
  {
   "cell_type": "code",
   "execution_count": 65,
   "metadata": {},
   "outputs": [
    {
     "data": {
      "text/plain": [
       "Vegetation                      0.166012\n",
       "Equipment Failure/Involved      0.137970\n",
       "3rd Party                       0.109927\n",
       "Animal                          0.020752\n",
       "Environmental/External          0.003365\n",
       "Company Initiated               0.001122\n",
       "Name: Basic Cause, dtype: float64"
      ]
     },
     "execution_count": 65,
     "metadata": {},
     "output_type": "execute_result"
    }
   ],
   "source": [
    "idx = df['OIS #'].isin(ignit['Outage_OIS_Number'])\n",
    "df['Basic Cause'][idx].value_counts()/sum(idx)"
   ]
  },
  {
   "cell_type": "code",
   "execution_count": 66,
   "metadata": {},
   "outputs": [
    {
     "data": {
      "text/plain": [
       "Overhead                                 0.125631\n",
       "Tree - fell into line                    0.118340\n",
       "Vehicle                                  0.077398\n",
       "Tree - branch fell on line               0.039821\n",
       "Bird found                               0.018508\n",
       "Tree - cutting, 3rd party                0.013460\n",
       "Other                                    0.007852\n",
       "Metallic Balloon                         0.006169\n",
       "Gun Shot                                 0.005609\n",
       "Fire, pole                               0.005609\n",
       "Tree - cutting, PG&E contractor          0.002804\n",
       "Tree - grew into line                    0.002804\n",
       "Fire, Forest/Grass                       0.002804\n",
       "Contact with High Voltage, 3rd party     0.002243\n",
       "Tree - bark fell into line               0.001683\n",
       "Aircraft, crop dusting                   0.001683\n",
       "Electrical Overload                      0.001122\n",
       "Vandalism                                0.001122\n",
       "Aircraft                                 0.001122\n",
       "Lightning                                0.000561\n",
       "Tree - palm frond fell into line         0.000561\n",
       "Squirrel                                 0.000561\n",
       "Fire, house or bldg.                     0.000561\n",
       "Personnel, company                       0.000561\n",
       "Improper Construction                    0.000561\n",
       "Name: Supplemental Cause, dtype: float64"
      ]
     },
     "execution_count": 66,
     "metadata": {},
     "output_type": "execute_result"
    }
   ],
   "source": [
    "idx = df['OIS #'].isin(ignit['Outage_OIS_Number'])\n",
    "df['Supplemental Cause'][idx].value_counts()/sum(idx)"
   ]
  },
  {
   "cell_type": "code",
   "execution_count": 68,
   "metadata": {},
   "outputs": [
    {
     "data": {
      "text/plain": [
       "Basic Cause                   Supplemental Cause                   \n",
       "Equipment Failure/Involved    Overhead                                 224\n",
       "Vegetation                    Tree - fell into line                    211\n",
       "3rd Party                     Vehicle                                  138\n",
       "Vegetation                    Tree - branch fell on line                71\n",
       "Animal                        Bird found                                33\n",
       "3rd Party                     Tree - cutting, 3rd party                 24\n",
       "                              Metallic Balloon                          11\n",
       "                              Gun Shot                                  10\n",
       "Equipment Failure/Involved    Other                                     10\n",
       "                              Fire, pole                                10\n",
       "Vegetation                    Tree - cutting, PG&E contractor            5\n",
       "Environmental/External        Fire, Forest/Grass                         5\n",
       "Vegetation                    Tree - grew into line                      5\n",
       "3rd Party                     Contact with High Voltage, 3rd party       4\n",
       "Animal                        Other                                      3\n",
       "3rd Party                     Aircraft, crop dusting                     3\n",
       "Vegetation                    Tree - bark fell into line                 3\n",
       "Equipment Failure/Involved    Electrical Overload                        2\n",
       "3rd Party                     Vandalism                                  2\n",
       "                              Aircraft                                   2\n",
       "                              Fire, house or bldg.                       1\n",
       "Vegetation                    Tree - palm frond fell into line           1\n",
       "3rd Party                     Other                                      1\n",
       "Animal                        Squirrel                                   1\n",
       "Company Initiated             Personnel, company                         1\n",
       "Environmental/External        Lightning                                  1\n",
       "Company Initiated             Improper Construction                      1\n",
       "Name: OIS #, dtype: int64"
      ]
     },
     "execution_count": 68,
     "metadata": {},
     "output_type": "execute_result"
    }
   ],
   "source": [
    "idx = df['OIS #'].isin(ignit['Outage_OIS_Number'])\n",
    "df[idx].groupby(['Basic Cause','Supplemental Cause'])['OIS #'].count().sort_values(ascending=False)"
   ]
  },
  {
   "cell_type": "code",
   "execution_count": 25,
   "metadata": {},
   "outputs": [
    {
     "data": {
      "text/plain": [
       "Conductor, Overhead             0.599234\n",
       "Pole-Wood                       0.181972\n",
       "Connector or Splice (OH)        0.054971\n",
       "Secondary                       0.042065\n",
       "Crossarm, Wood                  0.029441\n",
       "Transformer                     0.016132\n",
       "Service conductor               0.011091\n",
       "Insulator                       0.006574\n",
       "Anchor or Guy                   0.006171\n",
       "Transformer (OH)                0.003388\n",
       "Jumper                          0.002057\n",
       "PGs, Kearneys                   0.001573\n",
       "Other                           0.001089\n",
       "Woodpin                         0.001089\n",
       "Cutout, fuse holder             0.000686\n",
       "Capacitor                       0.000444\n",
       "Switch (OH)                     0.000242\n",
       "Regulator                       0.000242\n",
       "Pole - Tower, steel             0.000242\n",
       "Conductor, Underground          0.000161\n",
       "Lightning Arrestor              0.000121\n",
       "Recloser                        0.000081\n",
       "Footings, Tower or Pole         0.000081\n",
       "Customer Equipment              0.000040\n",
       "Crossarm, Steel                 0.000040\n",
       "Booster                         0.000040\n",
       "Cutout, Fused, Distribution     0.000040\n",
       "Transformer (UG)                0.000040\n",
       "Bushing                         0.000040\n",
       "Switch                          0.000040\n",
       "Name: Failed Equipment, dtype: float64"
      ]
     },
     "execution_count": 25,
     "metadata": {},
     "output_type": "execute_result"
    }
   ],
   "source": [
    "df['Failed Equipment'].value_counts()/len(df)"
   ]
  },
  {
   "cell_type": "code",
   "execution_count": 19,
   "metadata": {},
   "outputs": [
    {
     "data": {
      "text/plain": [
       "Broken, wire on ground          22054\n",
       "Broken, wire on object            971\n",
       "On Ground                         764\n",
       "Name: Failed Equipment\\nCondition, dtype: int64"
      ]
     },
     "execution_count": 19,
     "metadata": {},
     "output_type": "execute_result"
    }
   ],
   "source": [
    "df['Failed Equipment\\nCondition'].value_counts()"
   ]
  },
  {
   "cell_type": "code",
   "execution_count": 28,
   "metadata": {},
   "outputs": [],
   "source": [
    "ignit = pd.read_csv(os.path.join(datadir, 'ignitions.csv'), skiprows=2)"
   ]
  },
  {
   "cell_type": "code",
   "execution_count": 29,
   "metadata": {},
   "outputs": [
    {
     "data": {
      "text/html": [
       "<div>\n",
       "<style scoped>\n",
       "    .dataframe tbody tr th:only-of-type {\n",
       "        vertical-align: middle;\n",
       "    }\n",
       "\n",
       "    .dataframe tbody tr th {\n",
       "        vertical-align: top;\n",
       "    }\n",
       "\n",
       "    .dataframe thead th {\n",
       "        text-align: right;\n",
       "    }\n",
       "</style>\n",
       "<table border=\"1\" class=\"dataframe\">\n",
       "  <thead>\n",
       "    <tr style=\"text-align: right;\">\n",
       "      <th></th>\n",
       "      <th>Outage_OIS_Number</th>\n",
       "      <th>Date</th>\n",
       "      <th>Time</th>\n",
       "      <th>Latitude</th>\n",
       "      <th>Longitude</th>\n",
       "      <th>Circuit Name</th>\n",
       "      <th>Type of Equipment Involved</th>\n",
       "      <th>Facility Identification</th>\n",
       "      <th>Voltage</th>\n",
       "      <th>Overhead/Underground</th>\n",
       "      <th>...</th>\n",
       "      <th>Unnamed: 16</th>\n",
       "      <th>Unnamed: 17</th>\n",
       "      <th>Unnamed: 18</th>\n",
       "      <th>Unnamed: 19</th>\n",
       "      <th>Unnamed: 20</th>\n",
       "      <th>Unnamed: 21</th>\n",
       "      <th>Unnamed: 22</th>\n",
       "      <th>Unnamed: 23</th>\n",
       "      <th>Unnamed: 24</th>\n",
       "      <th>Unnamed: 25</th>\n",
       "    </tr>\n",
       "  </thead>\n",
       "  <tbody>\n",
       "    <tr>\n",
       "      <th>0</th>\n",
       "      <td>1161211</td>\n",
       "      <td>1/8/15</td>\n",
       "      <td>3:23:00 PM</td>\n",
       "      <td>37.36630999</td>\n",
       "      <td>-121.883169</td>\n",
       "      <td>SAN-JOSE-B-1112</td>\n",
       "      <td>Conductor</td>\n",
       "      <td>100566657</td>\n",
       "      <td>12000.0</td>\n",
       "      <td>UG</td>\n",
       "      <td>...</td>\n",
       "      <td>NaN</td>\n",
       "      <td>NaN</td>\n",
       "      <td>NaN</td>\n",
       "      <td>NaN</td>\n",
       "      <td>NaN</td>\n",
       "      <td>NaN</td>\n",
       "      <td>NaN</td>\n",
       "      <td>NaN</td>\n",
       "      <td>NaN</td>\n",
       "      <td>NaN</td>\n",
       "    </tr>\n",
       "    <tr>\n",
       "      <th>1</th>\n",
       "      <td>1162068</td>\n",
       "      <td>1/10/15</td>\n",
       "      <td>5:32:00 PM</td>\n",
       "      <td>38.089032</td>\n",
       "      <td>-122.208693</td>\n",
       "      <td>NORTH-TOWER-1104</td>\n",
       "      <td>Conductor</td>\n",
       "      <td>102217759</td>\n",
       "      <td>12000.0</td>\n",
       "      <td>OH</td>\n",
       "      <td>...</td>\n",
       "      <td>NaN</td>\n",
       "      <td>NaN</td>\n",
       "      <td>NaN</td>\n",
       "      <td>NaN</td>\n",
       "      <td>NaN</td>\n",
       "      <td>NaN</td>\n",
       "      <td>NaN</td>\n",
       "      <td>NaN</td>\n",
       "      <td>NaN</td>\n",
       "      <td>NaN</td>\n",
       "    </tr>\n",
       "    <tr>\n",
       "      <th>2</th>\n",
       "      <td>TR5390826</td>\n",
       "      <td>1/16/15</td>\n",
       "      <td>7:10:00 AM</td>\n",
       "      <td>38.775327</td>\n",
       "      <td>-122.700442</td>\n",
       "      <td>MIDDLETOWN-1101</td>\n",
       "      <td>Conductor</td>\n",
       "      <td>102167494</td>\n",
       "      <td>12000.0</td>\n",
       "      <td>OH</td>\n",
       "      <td>...</td>\n",
       "      <td>NaN</td>\n",
       "      <td>NaN</td>\n",
       "      <td>NaN</td>\n",
       "      <td>NaN</td>\n",
       "      <td>NaN</td>\n",
       "      <td>NaN</td>\n",
       "      <td>NaN</td>\n",
       "      <td>NaN</td>\n",
       "      <td>NaN</td>\n",
       "      <td>NaN</td>\n",
       "    </tr>\n",
       "    <tr>\n",
       "      <th>3</th>\n",
       "      <td>1168347</td>\n",
       "      <td>1/26/15</td>\n",
       "      <td>4:19:00 AM</td>\n",
       "      <td>37.05394</td>\n",
       "      <td>-122.15867</td>\n",
       "      <td>POINT-MORETTI-1101</td>\n",
       "      <td>Conductor</td>\n",
       "      <td>NaN</td>\n",
       "      <td>12000.0</td>\n",
       "      <td>OH</td>\n",
       "      <td>...</td>\n",
       "      <td>NaN</td>\n",
       "      <td>NaN</td>\n",
       "      <td>NaN</td>\n",
       "      <td>NaN</td>\n",
       "      <td>NaN</td>\n",
       "      <td>NaN</td>\n",
       "      <td>NaN</td>\n",
       "      <td>NaN</td>\n",
       "      <td>NaN</td>\n",
       "      <td>NaN</td>\n",
       "    </tr>\n",
       "    <tr>\n",
       "      <th>4</th>\n",
       "      <td>1175142</td>\n",
       "      <td>2/6/15</td>\n",
       "      <td>1:11:00 PM</td>\n",
       "      <td>36.40321</td>\n",
       "      <td>-121.91088</td>\n",
       "      <td>OTTER-1101</td>\n",
       "      <td>Conductor</td>\n",
       "      <td>loadside of 40283</td>\n",
       "      <td>12000.0</td>\n",
       "      <td>OH</td>\n",
       "      <td>...</td>\n",
       "      <td>NaN</td>\n",
       "      <td>NaN</td>\n",
       "      <td>NaN</td>\n",
       "      <td>NaN</td>\n",
       "      <td>NaN</td>\n",
       "      <td>NaN</td>\n",
       "      <td>NaN</td>\n",
       "      <td>NaN</td>\n",
       "      <td>NaN</td>\n",
       "      <td>NaN</td>\n",
       "    </tr>\n",
       "  </tbody>\n",
       "</table>\n",
       "<p>5 rows × 26 columns</p>\n",
       "</div>"
      ],
      "text/plain": [
       "  Outage_OIS_Number     Date        Time     Latitude    Longitude  \\\n",
       "0           1161211   1/8/15  3:23:00 PM  37.36630999  -121.883169   \n",
       "1           1162068  1/10/15  5:32:00 PM    38.089032  -122.208693   \n",
       "2         TR5390826  1/16/15  7:10:00 AM    38.775327  -122.700442   \n",
       "3           1168347  1/26/15  4:19:00 AM     37.05394   -122.15867   \n",
       "4           1175142   2/6/15  1:11:00 PM     36.40321   -121.91088   \n",
       "\n",
       "         Circuit Name Type of Equipment Involved Facility Identification  \\\n",
       "0     SAN-JOSE-B-1112                  Conductor               100566657   \n",
       "1    NORTH-TOWER-1104                  Conductor               102217759   \n",
       "2     MIDDLETOWN-1101                  Conductor               102167494   \n",
       "3  POINT-MORETTI-1101                  Conductor                     NaN   \n",
       "4          OTTER-1101                  Conductor       loadside of 40283   \n",
       "\n",
       "   Voltage Overhead/Underground  ...  Unnamed: 16  Unnamed: 17  Unnamed: 18  \\\n",
       "0  12000.0                   UG  ...          NaN          NaN          NaN   \n",
       "1  12000.0                   OH  ...          NaN          NaN          NaN   \n",
       "2  12000.0                   OH  ...          NaN          NaN          NaN   \n",
       "3  12000.0                   OH  ...          NaN          NaN          NaN   \n",
       "4  12000.0                   OH  ...          NaN          NaN          NaN   \n",
       "\n",
       "   Unnamed: 19  Unnamed: 20  Unnamed: 21  Unnamed: 22  Unnamed: 23  \\\n",
       "0          NaN          NaN          NaN          NaN          NaN   \n",
       "1          NaN          NaN          NaN          NaN          NaN   \n",
       "2          NaN          NaN          NaN          NaN          NaN   \n",
       "3          NaN          NaN          NaN          NaN          NaN   \n",
       "4          NaN          NaN          NaN          NaN          NaN   \n",
       "\n",
       "   Unnamed: 24  Unnamed: 25  \n",
       "0          NaN          NaN  \n",
       "1          NaN          NaN  \n",
       "2          NaN          NaN  \n",
       "3          NaN          NaN  \n",
       "4          NaN          NaN  \n",
       "\n",
       "[5 rows x 26 columns]"
      ]
     },
     "execution_count": 29,
     "metadata": {},
     "output_type": "execute_result"
    }
   ],
   "source": [
    "ignit.head()"
   ]
  },
  {
   "cell_type": "code",
   "execution_count": 32,
   "metadata": {},
   "outputs": [
    {
     "data": {
      "text/plain": [
       "Index(['Outage_OIS_Number', 'Date', 'Time', 'Latitude', 'Longitude',\n",
       "       'Circuit Name', 'Type of Equipment Involved', 'Facility Identification',\n",
       "       'Voltage', 'Overhead/Underground', 'Unnamed: 10', 'Unnamed: 11',\n",
       "       'Unnamed: 12', 'Unnamed: 13', 'Unnamed: 14', 'Unnamed: 15',\n",
       "       'Unnamed: 16', 'Unnamed: 17', 'Unnamed: 18', 'Unnamed: 19',\n",
       "       'Unnamed: 20', 'Unnamed: 21', 'Unnamed: 22', 'Unnamed: 23',\n",
       "       'Unnamed: 24', 'Unnamed: 25'],\n",
       "      dtype='object')"
      ]
     },
     "execution_count": 32,
     "metadata": {},
     "output_type": "execute_result"
    }
   ],
   "source": [
    "ignit.keys()"
   ]
  },
  {
   "cell_type": "code",
   "execution_count": 30,
   "metadata": {},
   "outputs": [
    {
     "data": {
      "text/plain": [
       "Conductor             0.433066\n",
       "Fuse                  0.047512\n",
       "Line Recloser         0.032745\n",
       "Transformer           0.025682\n",
       "Other                 0.017978\n",
       "Circuit Breaker       0.014446\n",
       "Capacitor Bank        0.013162\n",
       "Unknown               0.008026\n",
       "Switch                0.007063\n",
       "Jumpers               0.006100\n",
       "Lightning Arrestor    0.005778\n",
       "Trip Saver            0.001284\n",
       "Sectionalizer         0.000963\n",
       "conductor             0.000642\n",
       "Cable                 0.000321\n",
       "Name: Type of Equipment Involved, dtype: float64"
      ]
     },
     "execution_count": 30,
     "metadata": {},
     "output_type": "execute_result"
    }
   ],
   "source": [
    "ignit['Type of Equipment Involved'].value_counts()/len(ignit)"
   ]
  },
  {
   "cell_type": "code",
   "execution_count": 44,
   "metadata": {},
   "outputs": [
    {
     "name": "stdout",
     "output_type": "stream",
     "text": [
      "1783\n",
      "0.07190965920548498\n"
     ]
    }
   ],
   "source": [
    "idx = df['OIS #'].isin(ignit['Outage_OIS_Number'])\n",
    "\n",
    "print(sum(idx))\n",
    "print(sum(idx)/len(df))"
   ]
  },
  {
   "cell_type": "code",
   "execution_count": 61,
   "metadata": {},
   "outputs": [],
   "source": [
    "eq_types = pd.DataFrame(index=df['Failed Equipment'].unique(),\n",
    "                       columns=['overall','ignition','non-ignition'])\n",
    "\n",
    "idx = df['OIS #'].isin(ignit['Outage_OIS_Number']) \n",
    "idxNA = pd.isnull(df['Failed Equipment'])\n",
    "\n",
    "eq_types['overall'] = df['Failed Equipment'].value_counts()/len(df)\n",
    "eq_types['ignition'] = df['Failed Equipment'][idx].value_counts()/sum(idx & ~idxNA)\n",
    "eq_types['non-ignition'] = df['Failed Equipment'][~idx].value_counts()/sum(~idx & ~idxNA)"
   ]
  },
  {
   "cell_type": "code",
   "execution_count": 63,
   "metadata": {},
   "outputs": [
    {
     "data": {
      "text/plain": [
       "<AxesSubplot:>"
      ]
     },
     "execution_count": 63,
     "metadata": {},
     "output_type": "execute_result"
    },
    {
     "data": {
      "image/png": "[encoded data removed]",
      "text/plain": [
       "<Figure size 432x288 with 1 Axes>"
      ]
     },
     "metadata": {
      "needs_background": "light"
     },
     "output_type": "display_data"
    }
   ],
   "source": [
    "eq_types.sort_values('overall',ascending=False).iloc[:10].plot(kind='barh')"
   ]
  },
  {
   "cell_type": "code",
   "execution_count": 53,
   "metadata": {},
   "outputs": [
    {
     "data": {
      "text/plain": [
       "overall         0.959427\n",
       "ignition        0.439148\n",
       "non-ignition    0.999739\n",
       "dtype: float64"
      ]
     },
     "execution_count": 53,
     "metadata": {},
     "output_type": "execute_result"
    }
   ],
   "source": [
    "eq_types.sum()"
   ]
  },
  {
   "cell_type": "code",
   "execution_count": null,
   "metadata": {},
   "outputs": [],
   "source": []
  }
 ],
 "metadata": {
  "kernelspec": {
   "display_name": "Python 3",
   "language": "python",
   "name": "python3"
  },
  "language_info": {
   "codemirror_mode": {
    "name": "ipython",
    "version": 3
   },
   "file_extension": ".py",
   "mimetype": "text/x-python",
   "name": "python",
   "nbconvert_exporter": "python",
   "pygments_lexer": "ipython3",
   "version": "3.7.7"
  }
 },
 "nbformat": 4,
 "nbformat_minor": 4
}
